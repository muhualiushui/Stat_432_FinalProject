{
  "nbformat": 4,
  "nbformat_minor": 0,
  "metadata": {
    "colab": {
      "provenance": []
    },
    "kernelspec": {
      "name": "python3",
      "display_name": "Python 3"
    },
    "language_info": {
      "name": "python"
    }
  },
  "cells": [
    {
      "cell_type": "markdown",
      "source": [
        "### Section 1: Prediction"
      ],
      "metadata": {
        "id": "oLGcNBcwHuOP"
      }
    },
    {
      "cell_type": "code",
      "source": [
        "!pip install h2o"
      ],
      "metadata": {
        "colab": {
          "base_uri": "https://localhost:8080/"
        },
        "id": "te1qO9CG4rzc",
        "outputId": "840676eb-94f2-4f6e-fee3-fa4809452219"
      },
      "execution_count": 2,
      "outputs": [
        {
          "output_type": "stream",
          "name": "stdout",
          "text": [
            "Requirement already satisfied: h2o in /usr/local/lib/python3.10/dist-packages (3.44.0.2)\n",
            "Requirement already satisfied: requests in /usr/local/lib/python3.10/dist-packages (from h2o) (2.31.0)\n",
            "Requirement already satisfied: tabulate in /usr/local/lib/python3.10/dist-packages (from h2o) (0.9.0)\n",
            "Requirement already satisfied: charset-normalizer<4,>=2 in /usr/local/lib/python3.10/dist-packages (from requests->h2o) (3.3.2)\n",
            "Requirement already satisfied: idna<4,>=2.5 in /usr/local/lib/python3.10/dist-packages (from requests->h2o) (3.4)\n",
            "Requirement already satisfied: urllib3<3,>=1.21.1 in /usr/local/lib/python3.10/dist-packages (from requests->h2o) (2.0.7)\n",
            "Requirement already satisfied: certifi>=2017.4.17 in /usr/local/lib/python3.10/dist-packages (from requests->h2o) (2023.7.22)\n"
          ]
        }
      ]
    },
    {
      "cell_type": "code",
      "execution_count": 3,
      "metadata": {
        "id": "fW-o8YKw306n"
      },
      "outputs": [],
      "source": [
        "import pandas as pd\n",
        "import h2o\n",
        "from sklearn.model_selection import train_test_split\n",
        "from h2o.automl import H2OAutoML\n",
        "from sklearn.metrics import mean_squared_error"
      ]
    },
    {
      "cell_type": "code",
      "source": [
        "TOX = pd.read_excel(\"data.xlsx\")"
      ],
      "metadata": {
        "id": "WchGoaDg4b81"
      },
      "execution_count": 4,
      "outputs": []
    },
    {
      "cell_type": "code",
      "source": [
        "TOX.head()"
      ],
      "metadata": {
        "colab": {
          "base_uri": "https://localhost:8080/",
          "height": 382
        },
        "id": "QManAnrB5gGb",
        "outputId": "221b2af9-7c38-47a2-cc2a-552267d017d8"
      },
      "execution_count": 5,
      "outputs": [
        {
          "output_type": "execute_result",
          "data": {
            "text/plain": [
              "       TAID                        SMILES  Halogens  S  P  Other Metal  \\\n",
              "0   TOX-145                  Oc1ccc(O)cc1         0  0  0            0   \n",
              "1   TOX-245        S=P(N1CC1)(N1CC1)N1CC1         0  1  1            0   \n",
              "2  TOX-1273  ClC1C(Cl)C(Cl)C(Cl)C(Cl)C1Cl        -1  0  0            0   \n",
              "3  TOX-1279             CN(C)C(=N)N=C(N)N         0  0  0            0   \n",
              "4  TOX-1282             Cc1ccc(C(C)C)cc1O         0  0  0            0   \n",
              "\n",
              "   Hydroxyl or Ether  Ketones, aldehydes, carboxylic acids, or esters  \\\n",
              "0                  1                                               -1   \n",
              "1                  0                                                0   \n",
              "2                  0                                                0   \n",
              "3                  0                                                0   \n",
              "4                  1                                               -1   \n",
              "\n",
              "   Primary Amine or Ammonium Ion  Secondary Amine or Aromatic Nitrogen  \\\n",
              "0                              0                                     0   \n",
              "1                             -1                                    -1   \n",
              "2                              0                                     0   \n",
              "3                              1                                     1   \n",
              "4                              0                                     0   \n",
              "\n",
              "   Tertiary Amine or Amide Nitrogen  Partially Aromatic  Aromatic  Aliphatic  \\\n",
              "0                                 0                   0         1          0   \n",
              "1                                 1                   0         0          1   \n",
              "2                                 0                   0         0          1   \n",
              "3                                 1                   0         0          0   \n",
              "4                                 0                   0         1          0   \n",
              "\n",
              "   mouse intraperitoneal LD50  group  \n",
              "0                    3.041835      3  \n",
              "1                    4.235584      5  \n",
              "2                    3.366732      4  \n",
              "3                    2.641604      3  \n",
              "4                    3.311627      4  "
            ],
            "text/html": [
              "\n",
              "  <div id=\"df-59c8f711-0bbe-4c2d-83ec-e4b1f0e2c8bc\" class=\"colab-df-container\">\n",
              "    <div>\n",
              "<style scoped>\n",
              "    .dataframe tbody tr th:only-of-type {\n",
              "        vertical-align: middle;\n",
              "    }\n",
              "\n",
              "    .dataframe tbody tr th {\n",
              "        vertical-align: top;\n",
              "    }\n",
              "\n",
              "    .dataframe thead th {\n",
              "        text-align: right;\n",
              "    }\n",
              "</style>\n",
              "<table border=\"1\" class=\"dataframe\">\n",
              "  <thead>\n",
              "    <tr style=\"text-align: right;\">\n",
              "      <th></th>\n",
              "      <th>TAID</th>\n",
              "      <th>SMILES</th>\n",
              "      <th>Halogens</th>\n",
              "      <th>S</th>\n",
              "      <th>P</th>\n",
              "      <th>Other Metal</th>\n",
              "      <th>Hydroxyl or Ether</th>\n",
              "      <th>Ketones, aldehydes, carboxylic acids, or esters</th>\n",
              "      <th>Primary Amine or Ammonium Ion</th>\n",
              "      <th>Secondary Amine or Aromatic Nitrogen</th>\n",
              "      <th>Tertiary Amine or Amide Nitrogen</th>\n",
              "      <th>Partially Aromatic</th>\n",
              "      <th>Aromatic</th>\n",
              "      <th>Aliphatic</th>\n",
              "      <th>mouse intraperitoneal LD50</th>\n",
              "      <th>group</th>\n",
              "    </tr>\n",
              "  </thead>\n",
              "  <tbody>\n",
              "    <tr>\n",
              "      <th>0</th>\n",
              "      <td>TOX-145</td>\n",
              "      <td>Oc1ccc(O)cc1</td>\n",
              "      <td>0</td>\n",
              "      <td>0</td>\n",
              "      <td>0</td>\n",
              "      <td>0</td>\n",
              "      <td>1</td>\n",
              "      <td>-1</td>\n",
              "      <td>0</td>\n",
              "      <td>0</td>\n",
              "      <td>0</td>\n",
              "      <td>0</td>\n",
              "      <td>1</td>\n",
              "      <td>0</td>\n",
              "      <td>3.041835</td>\n",
              "      <td>3</td>\n",
              "    </tr>\n",
              "    <tr>\n",
              "      <th>1</th>\n",
              "      <td>TOX-245</td>\n",
              "      <td>S=P(N1CC1)(N1CC1)N1CC1</td>\n",
              "      <td>0</td>\n",
              "      <td>1</td>\n",
              "      <td>1</td>\n",
              "      <td>0</td>\n",
              "      <td>0</td>\n",
              "      <td>0</td>\n",
              "      <td>-1</td>\n",
              "      <td>-1</td>\n",
              "      <td>1</td>\n",
              "      <td>0</td>\n",
              "      <td>0</td>\n",
              "      <td>1</td>\n",
              "      <td>4.235584</td>\n",
              "      <td>5</td>\n",
              "    </tr>\n",
              "    <tr>\n",
              "      <th>2</th>\n",
              "      <td>TOX-1273</td>\n",
              "      <td>ClC1C(Cl)C(Cl)C(Cl)C(Cl)C1Cl</td>\n",
              "      <td>-1</td>\n",
              "      <td>0</td>\n",
              "      <td>0</td>\n",
              "      <td>0</td>\n",
              "      <td>0</td>\n",
              "      <td>0</td>\n",
              "      <td>0</td>\n",
              "      <td>0</td>\n",
              "      <td>0</td>\n",
              "      <td>0</td>\n",
              "      <td>0</td>\n",
              "      <td>1</td>\n",
              "      <td>3.366732</td>\n",
              "      <td>4</td>\n",
              "    </tr>\n",
              "    <tr>\n",
              "      <th>3</th>\n",
              "      <td>TOX-1279</td>\n",
              "      <td>CN(C)C(=N)N=C(N)N</td>\n",
              "      <td>0</td>\n",
              "      <td>0</td>\n",
              "      <td>0</td>\n",
              "      <td>0</td>\n",
              "      <td>0</td>\n",
              "      <td>0</td>\n",
              "      <td>1</td>\n",
              "      <td>1</td>\n",
              "      <td>1</td>\n",
              "      <td>0</td>\n",
              "      <td>0</td>\n",
              "      <td>0</td>\n",
              "      <td>2.641604</td>\n",
              "      <td>3</td>\n",
              "    </tr>\n",
              "    <tr>\n",
              "      <th>4</th>\n",
              "      <td>TOX-1282</td>\n",
              "      <td>Cc1ccc(C(C)C)cc1O</td>\n",
              "      <td>0</td>\n",
              "      <td>0</td>\n",
              "      <td>0</td>\n",
              "      <td>0</td>\n",
              "      <td>1</td>\n",
              "      <td>-1</td>\n",
              "      <td>0</td>\n",
              "      <td>0</td>\n",
              "      <td>0</td>\n",
              "      <td>0</td>\n",
              "      <td>1</td>\n",
              "      <td>0</td>\n",
              "      <td>3.311627</td>\n",
              "      <td>4</td>\n",
              "    </tr>\n",
              "  </tbody>\n",
              "</table>\n",
              "</div>\n",
              "    <div class=\"colab-df-buttons\">\n",
              "\n",
              "  <div class=\"colab-df-container\">\n",
              "    <button class=\"colab-df-convert\" onclick=\"convertToInteractive('df-59c8f711-0bbe-4c2d-83ec-e4b1f0e2c8bc')\"\n",
              "            title=\"Convert this dataframe to an interactive table.\"\n",
              "            style=\"display:none;\">\n",
              "\n",
              "  <svg xmlns=\"http://www.w3.org/2000/svg\" height=\"24px\" viewBox=\"0 -960 960 960\">\n",
              "    <path d=\"M120-120v-720h720v720H120Zm60-500h600v-160H180v160Zm220 220h160v-160H400v160Zm0 220h160v-160H400v160ZM180-400h160v-160H180v160Zm440 0h160v-160H620v160ZM180-180h160v-160H180v160Zm440 0h160v-160H620v160Z\"/>\n",
              "  </svg>\n",
              "    </button>\n",
              "\n",
              "  <style>\n",
              "    .colab-df-container {\n",
              "      display:flex;\n",
              "      gap: 12px;\n",
              "    }\n",
              "\n",
              "    .colab-df-convert {\n",
              "      background-color: #E8F0FE;\n",
              "      border: none;\n",
              "      border-radius: 50%;\n",
              "      cursor: pointer;\n",
              "      display: none;\n",
              "      fill: #1967D2;\n",
              "      height: 32px;\n",
              "      padding: 0 0 0 0;\n",
              "      width: 32px;\n",
              "    }\n",
              "\n",
              "    .colab-df-convert:hover {\n",
              "      background-color: #E2EBFA;\n",
              "      box-shadow: 0px 1px 2px rgba(60, 64, 67, 0.3), 0px 1px 3px 1px rgba(60, 64, 67, 0.15);\n",
              "      fill: #174EA6;\n",
              "    }\n",
              "\n",
              "    .colab-df-buttons div {\n",
              "      margin-bottom: 4px;\n",
              "    }\n",
              "\n",
              "    [theme=dark] .colab-df-convert {\n",
              "      background-color: #3B4455;\n",
              "      fill: #D2E3FC;\n",
              "    }\n",
              "\n",
              "    [theme=dark] .colab-df-convert:hover {\n",
              "      background-color: #434B5C;\n",
              "      box-shadow: 0px 1px 3px 1px rgba(0, 0, 0, 0.15);\n",
              "      filter: drop-shadow(0px 1px 2px rgba(0, 0, 0, 0.3));\n",
              "      fill: #FFFFFF;\n",
              "    }\n",
              "  </style>\n",
              "\n",
              "    <script>\n",
              "      const buttonEl =\n",
              "        document.querySelector('#df-59c8f711-0bbe-4c2d-83ec-e4b1f0e2c8bc button.colab-df-convert');\n",
              "      buttonEl.style.display =\n",
              "        google.colab.kernel.accessAllowed ? 'block' : 'none';\n",
              "\n",
              "      async function convertToInteractive(key) {\n",
              "        const element = document.querySelector('#df-59c8f711-0bbe-4c2d-83ec-e4b1f0e2c8bc');\n",
              "        const dataTable =\n",
              "          await google.colab.kernel.invokeFunction('convertToInteractive',\n",
              "                                                    [key], {});\n",
              "        if (!dataTable) return;\n",
              "\n",
              "        const docLinkHtml = 'Like what you see? Visit the ' +\n",
              "          '<a target=\"_blank\" href=https://colab.research.google.com/notebooks/data_table.ipynb>data table notebook</a>'\n",
              "          + ' to learn more about interactive tables.';\n",
              "        element.innerHTML = '';\n",
              "        dataTable['output_type'] = 'display_data';\n",
              "        await google.colab.output.renderOutput(dataTable, element);\n",
              "        const docLink = document.createElement('div');\n",
              "        docLink.innerHTML = docLinkHtml;\n",
              "        element.appendChild(docLink);\n",
              "      }\n",
              "    </script>\n",
              "  </div>\n",
              "\n",
              "\n",
              "<div id=\"df-36ecfd79-831f-4ef2-9311-e68e19d3fbcb\">\n",
              "  <button class=\"colab-df-quickchart\" onclick=\"quickchart('df-36ecfd79-831f-4ef2-9311-e68e19d3fbcb')\"\n",
              "            title=\"Suggest charts\"\n",
              "            style=\"display:none;\">\n",
              "\n",
              "<svg xmlns=\"http://www.w3.org/2000/svg\" height=\"24px\"viewBox=\"0 0 24 24\"\n",
              "     width=\"24px\">\n",
              "    <g>\n",
              "        <path d=\"M19 3H5c-1.1 0-2 .9-2 2v14c0 1.1.9 2 2 2h14c1.1 0 2-.9 2-2V5c0-1.1-.9-2-2-2zM9 17H7v-7h2v7zm4 0h-2V7h2v10zm4 0h-2v-4h2v4z\"/>\n",
              "    </g>\n",
              "</svg>\n",
              "  </button>\n",
              "\n",
              "<style>\n",
              "  .colab-df-quickchart {\n",
              "      --bg-color: #E8F0FE;\n",
              "      --fill-color: #1967D2;\n",
              "      --hover-bg-color: #E2EBFA;\n",
              "      --hover-fill-color: #174EA6;\n",
              "      --disabled-fill-color: #AAA;\n",
              "      --disabled-bg-color: #DDD;\n",
              "  }\n",
              "\n",
              "  [theme=dark] .colab-df-quickchart {\n",
              "      --bg-color: #3B4455;\n",
              "      --fill-color: #D2E3FC;\n",
              "      --hover-bg-color: #434B5C;\n",
              "      --hover-fill-color: #FFFFFF;\n",
              "      --disabled-bg-color: #3B4455;\n",
              "      --disabled-fill-color: #666;\n",
              "  }\n",
              "\n",
              "  .colab-df-quickchart {\n",
              "    background-color: var(--bg-color);\n",
              "    border: none;\n",
              "    border-radius: 50%;\n",
              "    cursor: pointer;\n",
              "    display: none;\n",
              "    fill: var(--fill-color);\n",
              "    height: 32px;\n",
              "    padding: 0;\n",
              "    width: 32px;\n",
              "  }\n",
              "\n",
              "  .colab-df-quickchart:hover {\n",
              "    background-color: var(--hover-bg-color);\n",
              "    box-shadow: 0 1px 2px rgba(60, 64, 67, 0.3), 0 1px 3px 1px rgba(60, 64, 67, 0.15);\n",
              "    fill: var(--button-hover-fill-color);\n",
              "  }\n",
              "\n",
              "  .colab-df-quickchart-complete:disabled,\n",
              "  .colab-df-quickchart-complete:disabled:hover {\n",
              "    background-color: var(--disabled-bg-color);\n",
              "    fill: var(--disabled-fill-color);\n",
              "    box-shadow: none;\n",
              "  }\n",
              "\n",
              "  .colab-df-spinner {\n",
              "    border: 2px solid var(--fill-color);\n",
              "    border-color: transparent;\n",
              "    border-bottom-color: var(--fill-color);\n",
              "    animation:\n",
              "      spin 1s steps(1) infinite;\n",
              "  }\n",
              "\n",
              "  @keyframes spin {\n",
              "    0% {\n",
              "      border-color: transparent;\n",
              "      border-bottom-color: var(--fill-color);\n",
              "      border-left-color: var(--fill-color);\n",
              "    }\n",
              "    20% {\n",
              "      border-color: transparent;\n",
              "      border-left-color: var(--fill-color);\n",
              "      border-top-color: var(--fill-color);\n",
              "    }\n",
              "    30% {\n",
              "      border-color: transparent;\n",
              "      border-left-color: var(--fill-color);\n",
              "      border-top-color: var(--fill-color);\n",
              "      border-right-color: var(--fill-color);\n",
              "    }\n",
              "    40% {\n",
              "      border-color: transparent;\n",
              "      border-right-color: var(--fill-color);\n",
              "      border-top-color: var(--fill-color);\n",
              "    }\n",
              "    60% {\n",
              "      border-color: transparent;\n",
              "      border-right-color: var(--fill-color);\n",
              "    }\n",
              "    80% {\n",
              "      border-color: transparent;\n",
              "      border-right-color: var(--fill-color);\n",
              "      border-bottom-color: var(--fill-color);\n",
              "    }\n",
              "    90% {\n",
              "      border-color: transparent;\n",
              "      border-bottom-color: var(--fill-color);\n",
              "    }\n",
              "  }\n",
              "</style>\n",
              "\n",
              "  <script>\n",
              "    async function quickchart(key) {\n",
              "      const quickchartButtonEl =\n",
              "        document.querySelector('#' + key + ' button');\n",
              "      quickchartButtonEl.disabled = true;  // To prevent multiple clicks.\n",
              "      quickchartButtonEl.classList.add('colab-df-spinner');\n",
              "      try {\n",
              "        const charts = await google.colab.kernel.invokeFunction(\n",
              "            'suggestCharts', [key], {});\n",
              "      } catch (error) {\n",
              "        console.error('Error during call to suggestCharts:', error);\n",
              "      }\n",
              "      quickchartButtonEl.classList.remove('colab-df-spinner');\n",
              "      quickchartButtonEl.classList.add('colab-df-quickchart-complete');\n",
              "    }\n",
              "    (() => {\n",
              "      let quickchartButtonEl =\n",
              "        document.querySelector('#df-36ecfd79-831f-4ef2-9311-e68e19d3fbcb button');\n",
              "      quickchartButtonEl.style.display =\n",
              "        google.colab.kernel.accessAllowed ? 'block' : 'none';\n",
              "    })();\n",
              "  </script>\n",
              "</div>\n",
              "    </div>\n",
              "  </div>\n"
            ]
          },
          "metadata": {},
          "execution_count": 5
        }
      ]
    },
    {
      "cell_type": "code",
      "source": [
        "Xtrain = TOX.drop(columns=['TAID', 'SMILES', 'mouse intraperitoneal LD50', 'group'])\n",
        "ytrain = TOX['mouse intraperitoneal LD50']\n",
        "\n",
        "# Split the data into training (70%), validation (15%), and test (15%) sets\n",
        "X_train, X_temp, y_train, y_temp = train_test_split(Xtrain, ytrain, test_size=0.3, random_state=42)\n",
        "X_valid, X_test, y_valid, y_test = train_test_split(X_temp, y_temp, test_size=0.5, random_state=42)"
      ],
      "metadata": {
        "id": "98ihvnxD5T8A"
      },
      "execution_count": 5,
      "outputs": []
    },
    {
      "cell_type": "code",
      "source": [
        "# H2O.ai\n",
        "h2o.init()\n",
        "\n",
        "Xtrain_h2o = h2o.H2OFrame(X_train)\n",
        "Xtest_h2o = h2o.H2OFrame(X_test)\n",
        "X_valid_h2o = h2o.H2OFrame(X_valid)\n",
        "ytrain_h2o = h2o.H2OFrame(list(y_train), column_names=[\"mouse intraperitoneal LD50\"])\n",
        "ytest_h2o = h2o.H2OFrame(list(y_test), column_names=[\"mouse intraperitoneal LD50\"])\n",
        "yvalid_h2o = h2o.H2OFrame(list(y_valid), column_names=[\"mouse intraperitoneal LD50\"])\n",
        "\n",
        "train_h2o = Xtrain_h2o.cbind(ytrain_h2o)\n",
        "test_h2o = Xtest_h2o.cbind(ytest_h2o)\n",
        "valid_h2o = X_valid_h2o.cbind(yvalid_h2o)\n",
        "\n",
        "aml = H2OAutoML(max_runtime_secs=3600, max_models=10, seed=42, nfolds=5)\n",
        "aml.train(y=\"mouse intraperitoneal LD50\", training_frame=train_h2o, validation_frame=valid_h2o)"
      ],
      "metadata": {
        "colab": {
          "base_uri": "https://localhost:8080/",
          "height": 1000
        },
        "id": "gHjgxQLl6YsX",
        "outputId": "d8e48e19-0e7c-4c15-cfca-e0195711dcc6"
      },
      "execution_count": 6,
      "outputs": [
        {
          "output_type": "stream",
          "name": "stdout",
          "text": [
            "Checking whether there is an H2O instance running at http://localhost:54321..... not found.\n",
            "Attempting to start a local H2O server...\n",
            "  Java Version: openjdk version \"11.0.20.1\" 2023-08-24; OpenJDK Runtime Environment (build 11.0.20.1+1-post-Ubuntu-0ubuntu122.04); OpenJDK 64-Bit Server VM (build 11.0.20.1+1-post-Ubuntu-0ubuntu122.04, mixed mode, sharing)\n",
            "  Starting server from /usr/local/lib/python3.10/dist-packages/h2o/backend/bin/h2o.jar\n",
            "  Ice root: /tmp/tmp5rrcuzet\n",
            "  JVM stdout: /tmp/tmp5rrcuzet/h2o_unknownUser_started_from_python.out\n",
            "  JVM stderr: /tmp/tmp5rrcuzet/h2o_unknownUser_started_from_python.err\n",
            "  Server is running at http://127.0.0.1:54321\n",
            "Connecting to H2O server at http://127.0.0.1:54321 ... successful.\n"
          ]
        },
        {
          "output_type": "display_data",
          "data": {
            "text/plain": [
              "--------------------------  -----------------------------------------------------------------------------------------\n",
              "H2O_cluster_uptime:         03 secs\n",
              "H2O_cluster_timezone:       Etc/UTC\n",
              "H2O_data_parsing_timezone:  UTC\n",
              "H2O_cluster_version:        3.44.0.2\n",
              "H2O_cluster_version_age:    17 days\n",
              "H2O_cluster_name:           H2O_from_python_unknownUser_j1ucs2\n",
              "H2O_cluster_total_nodes:    1\n",
              "H2O_cluster_free_memory:    3.170 Gb\n",
              "H2O_cluster_total_cores:    2\n",
              "H2O_cluster_allowed_cores:  2\n",
              "H2O_cluster_status:         locked, healthy\n",
              "H2O_connection_url:         http://127.0.0.1:54321\n",
              "H2O_connection_proxy:       {\"http\": null, \"https\": null, \"colab_language_server\": \"/usr/colab/bin/language_service\"}\n",
              "H2O_internal_security:      False\n",
              "Python_version:             3.10.12 final\n",
              "--------------------------  -----------------------------------------------------------------------------------------"
            ],
            "text/html": [
              "\n",
              "<style>\n",
              "\n",
              "#h2o-table-1.h2o-container {\n",
              "  overflow-x: auto;\n",
              "}\n",
              "#h2o-table-1 .h2o-table {\n",
              "  /* width: 100%; */\n",
              "  margin-top: 1em;\n",
              "  margin-bottom: 1em;\n",
              "}\n",
              "#h2o-table-1 .h2o-table caption {\n",
              "  white-space: nowrap;\n",
              "  caption-side: top;\n",
              "  text-align: left;\n",
              "  /* margin-left: 1em; */\n",
              "  margin: 0;\n",
              "  font-size: larger;\n",
              "}\n",
              "#h2o-table-1 .h2o-table thead {\n",
              "  white-space: nowrap; \n",
              "  position: sticky;\n",
              "  top: 0;\n",
              "  box-shadow: 0 -1px inset;\n",
              "}\n",
              "#h2o-table-1 .h2o-table tbody {\n",
              "  overflow: auto;\n",
              "}\n",
              "#h2o-table-1 .h2o-table th,\n",
              "#h2o-table-1 .h2o-table td {\n",
              "  text-align: right;\n",
              "  /* border: 1px solid; */\n",
              "}\n",
              "#h2o-table-1 .h2o-table tr:nth-child(even) {\n",
              "  /* background: #F5F5F5 */\n",
              "}\n",
              "\n",
              "</style>      \n",
              "<div id=\"h2o-table-1\" class=\"h2o-container\">\n",
              "  <table class=\"h2o-table\">\n",
              "    <caption></caption>\n",
              "    <thead></thead>\n",
              "    <tbody><tr><td>H2O_cluster_uptime:</td>\n",
              "<td>03 secs</td></tr>\n",
              "<tr><td>H2O_cluster_timezone:</td>\n",
              "<td>Etc/UTC</td></tr>\n",
              "<tr><td>H2O_data_parsing_timezone:</td>\n",
              "<td>UTC</td></tr>\n",
              "<tr><td>H2O_cluster_version:</td>\n",
              "<td>3.44.0.2</td></tr>\n",
              "<tr><td>H2O_cluster_version_age:</td>\n",
              "<td>17 days</td></tr>\n",
              "<tr><td>H2O_cluster_name:</td>\n",
              "<td>H2O_from_python_unknownUser_j1ucs2</td></tr>\n",
              "<tr><td>H2O_cluster_total_nodes:</td>\n",
              "<td>1</td></tr>\n",
              "<tr><td>H2O_cluster_free_memory:</td>\n",
              "<td>3.170 Gb</td></tr>\n",
              "<tr><td>H2O_cluster_total_cores:</td>\n",
              "<td>2</td></tr>\n",
              "<tr><td>H2O_cluster_allowed_cores:</td>\n",
              "<td>2</td></tr>\n",
              "<tr><td>H2O_cluster_status:</td>\n",
              "<td>locked, healthy</td></tr>\n",
              "<tr><td>H2O_connection_url:</td>\n",
              "<td>http://127.0.0.1:54321</td></tr>\n",
              "<tr><td>H2O_connection_proxy:</td>\n",
              "<td>{\"http\": null, \"https\": null, \"colab_language_server\": \"/usr/colab/bin/language_service\"}</td></tr>\n",
              "<tr><td>H2O_internal_security:</td>\n",
              "<td>False</td></tr>\n",
              "<tr><td>Python_version:</td>\n",
              "<td>3.10.12 final</td></tr></tbody>\n",
              "  </table>\n",
              "</div>\n"
            ]
          },
          "metadata": {}
        },
        {
          "output_type": "stream",
          "name": "stdout",
          "text": [
            "Parse progress: |████████████████████████████████████████████████████████████████| (done) 100%\n",
            "Parse progress: |████████████████████████████████████████████████████████████████| (done) 100%\n",
            "Parse progress: |████████████████████████████████████████████████████████████████| (done) 100%\n",
            "Parse progress: |████████████████████████████████████████████████████████████████| (done) 100%\n",
            "Parse progress: |████████████████████████████████████████████████████████████████| (done) 100%\n",
            "Parse progress: |████████████████████████████████████████████████████████████████| (done) 100%\n",
            "AutoML progress: |\n",
            "22:07:50.67: User specified a validation frame with cross-validation still enabled. Please note that the models will still be validated using cross-validation only, the validation frame will be used to provide purely informative validation metrics on the trained models.\n",
            "\n",
            "███████████████████████████████████████████████████████████████| (done) 100%\n"
          ]
        },
        {
          "output_type": "execute_result",
          "data": {
            "text/plain": [
              "Model Details\n",
              "=============\n",
              "H2OStackedEnsembleEstimator : Stacked Ensemble\n",
              "Model Key: StackedEnsemble_AllModels_1_AutoML_1_20231125_220749\n",
              "\n",
              "\n",
              "Model Summary for Stacked Ensemble: \n",
              "key                                   value\n",
              "------------------------------------  ----------------\n",
              "Stacking strategy                     cross_validation\n",
              "Number of base models (used / total)  8/10\n",
              "# GBM base models (used / total)      4/4\n",
              "# XGBoost base models (used / total)  2/3\n",
              "# DRF base models (used / total)      2/2\n",
              "# GLM base models (used / total)      0/1\n",
              "Metalearner algorithm                 GLM\n",
              "Metalearner fold assignment scheme    Random\n",
              "Metalearner nfolds                    5\n",
              "Metalearner fold_column\n",
              "Custom metalearner hyperparameters    None\n",
              "\n",
              "ModelMetricsRegressionGLM: stackedensemble\n",
              "** Reported on train data. **\n",
              "\n",
              "MSE: 0.3614115725886413\n",
              "RMSE: 0.6011751596570182\n",
              "MAE: 0.4261742708143898\n",
              "RMSLE: 0.14156828063639174\n",
              "Mean Residual Deviance: 0.3614115725886413\n",
              "R^2: 0.2515315181301052\n",
              "Null degrees of freedom: 10008\n",
              "Residual degrees of freedom: 10000\n",
              "Null deviance: 4833.156649737182\n",
              "Residual deviance: 3617.368430039711\n",
              "AIC: 18237.773118919235\n",
              "\n",
              "ModelMetricsRegressionGLM: stackedensemble\n",
              "** Reported on validation data. **\n",
              "\n",
              "MSE: 0.3586252551390741\n",
              "RMSE: 0.5988532834835876\n",
              "MAE: 0.43104165997316946\n",
              "RMSLE: 0.142066165195934\n",
              "Mean Residual Deviance: 0.3586252551390741\n",
              "R^2: 0.21387888110562125\n",
              "Null degrees of freedom: 5294\n",
              "Residual degrees of freedom: 5286\n",
              "Null deviance: 2415.8232908655136\n",
              "Residual deviance: 1898.9207259613975\n",
              "AIC: 9616.656798910944\n",
              "\n",
              "ModelMetricsRegressionGLM: stackedensemble\n",
              "** Reported on cross-validation data. **\n",
              "\n",
              "MSE: 0.38583007961846466\n",
              "RMSE: 0.6211522193621019\n",
              "MAE: 0.442982908493615\n",
              "RMSLE: 0.1476633029567935\n",
              "Mean Residual Deviance: 0.38583007961846466\n",
              "R^2: 0.2028826520096435\n",
              "Null degrees of freedom: 24708\n",
              "Residual degrees of freedom: 24699\n",
              "Null deviance: 11960.27978567938\n",
              "Residual deviance: 9533.475437292644\n",
              "AIC: 46611.285307387356\n",
              "\n",
              "Cross-Validation Metrics Summary: \n",
              "                        mean      sd          cv_1_valid    cv_2_valid    cv_3_valid    cv_4_valid    cv_5_valid\n",
              "----------------------  --------  ----------  ------------  ------------  ------------  ------------  ------------\n",
              "mae                     0.44314   0.00827558  0.438948      0.44353       0.444517      0.433142      0.455564\n",
              "mean_residual_deviance  0.385662  0.0175133   0.374608      0.382799      0.394082      0.365933      0.410888\n",
              "mse                     0.385662  0.0175133   0.374608      0.382799      0.394082      0.365933      0.410888\n",
              "null_deviance           2392.06   85.3843     2346.62       2344.52       2490.4        2302.33       2476.41\n",
              "r2                      0.203346  0.014808    0.210112      0.203819      0.213067      0.212083      0.17765\n",
              "residual_deviance       1905.96   90.4671     1853.56       1866.53       1959.77       1813.56       2036.36\n",
              "rmse                    0.62089   0.0140499   0.612052      0.618708      0.627759      0.604924      0.641005\n",
              "rmsle                   0.147591  0.00330137  0.145075      0.146936      0.148833      0.144466      0.152644\n",
              "\n",
              "[tips]\n",
              "Use `model.explain()` to inspect the model.\n",
              "--\n",
              "Use `h2o.display.toggle_user_tips()` to switch on/off this section."
            ],
            "text/html": [
              "<pre style='margin: 1em 0 1em 0;'>Model Details\n",
              "=============\n",
              "H2OStackedEnsembleEstimator : Stacked Ensemble\n",
              "Model Key: StackedEnsemble_AllModels_1_AutoML_1_20231125_220749\n",
              "</pre>\n",
              "<div style='margin: 1em 0 1em 0;'>\n",
              "<style>\n",
              "\n",
              "#h2o-table-2.h2o-container {\n",
              "  overflow-x: auto;\n",
              "}\n",
              "#h2o-table-2 .h2o-table {\n",
              "  /* width: 100%; */\n",
              "  margin-top: 1em;\n",
              "  margin-bottom: 1em;\n",
              "}\n",
              "#h2o-table-2 .h2o-table caption {\n",
              "  white-space: nowrap;\n",
              "  caption-side: top;\n",
              "  text-align: left;\n",
              "  /* margin-left: 1em; */\n",
              "  margin: 0;\n",
              "  font-size: larger;\n",
              "}\n",
              "#h2o-table-2 .h2o-table thead {\n",
              "  white-space: nowrap; \n",
              "  position: sticky;\n",
              "  top: 0;\n",
              "  box-shadow: 0 -1px inset;\n",
              "}\n",
              "#h2o-table-2 .h2o-table tbody {\n",
              "  overflow: auto;\n",
              "}\n",
              "#h2o-table-2 .h2o-table th,\n",
              "#h2o-table-2 .h2o-table td {\n",
              "  text-align: right;\n",
              "  /* border: 1px solid; */\n",
              "}\n",
              "#h2o-table-2 .h2o-table tr:nth-child(even) {\n",
              "  /* background: #F5F5F5 */\n",
              "}\n",
              "\n",
              "</style>      \n",
              "<div id=\"h2o-table-2\" class=\"h2o-container\">\n",
              "  <table class=\"h2o-table\">\n",
              "    <caption>Model Summary for Stacked Ensemble: </caption>\n",
              "    <thead><tr><th>key</th>\n",
              "<th>value</th></tr></thead>\n",
              "    <tbody><tr><td>Stacking strategy</td>\n",
              "<td>cross_validation</td></tr>\n",
              "<tr><td>Number of base models (used / total)</td>\n",
              "<td>8/10</td></tr>\n",
              "<tr><td># GBM base models (used / total)</td>\n",
              "<td>4/4</td></tr>\n",
              "<tr><td># XGBoost base models (used / total)</td>\n",
              "<td>2/3</td></tr>\n",
              "<tr><td># DRF base models (used / total)</td>\n",
              "<td>2/2</td></tr>\n",
              "<tr><td># GLM base models (used / total)</td>\n",
              "<td>0/1</td></tr>\n",
              "<tr><td>Metalearner algorithm</td>\n",
              "<td>GLM</td></tr>\n",
              "<tr><td>Metalearner fold assignment scheme</td>\n",
              "<td>Random</td></tr>\n",
              "<tr><td>Metalearner nfolds</td>\n",
              "<td>5</td></tr>\n",
              "<tr><td>Metalearner fold_column</td>\n",
              "<td>None</td></tr>\n",
              "<tr><td>Custom metalearner hyperparameters</td>\n",
              "<td>None</td></tr></tbody>\n",
              "  </table>\n",
              "</div>\n",
              "</div>\n",
              "<div style='margin: 1em 0 1em 0;'><pre style='margin: 1em 0 1em 0;'>ModelMetricsRegressionGLM: stackedensemble\n",
              "** Reported on train data. **\n",
              "\n",
              "MSE: 0.3614115725886413\n",
              "RMSE: 0.6011751596570182\n",
              "MAE: 0.4261742708143898\n",
              "RMSLE: 0.14156828063639174\n",
              "Mean Residual Deviance: 0.3614115725886413\n",
              "R^2: 0.2515315181301052\n",
              "Null degrees of freedom: 10008\n",
              "Residual degrees of freedom: 10000\n",
              "Null deviance: 4833.156649737182\n",
              "Residual deviance: 3617.368430039711\n",
              "AIC: 18237.773118919235</pre></div>\n",
              "<div style='margin: 1em 0 1em 0;'><pre style='margin: 1em 0 1em 0;'>ModelMetricsRegressionGLM: stackedensemble\n",
              "** Reported on validation data. **\n",
              "\n",
              "MSE: 0.3586252551390741\n",
              "RMSE: 0.5988532834835876\n",
              "MAE: 0.43104165997316946\n",
              "RMSLE: 0.142066165195934\n",
              "Mean Residual Deviance: 0.3586252551390741\n",
              "R^2: 0.21387888110562125\n",
              "Null degrees of freedom: 5294\n",
              "Residual degrees of freedom: 5286\n",
              "Null deviance: 2415.8232908655136\n",
              "Residual deviance: 1898.9207259613975\n",
              "AIC: 9616.656798910944</pre></div>\n",
              "<div style='margin: 1em 0 1em 0;'><pre style='margin: 1em 0 1em 0;'>ModelMetricsRegressionGLM: stackedensemble\n",
              "** Reported on cross-validation data. **\n",
              "\n",
              "MSE: 0.38583007961846466\n",
              "RMSE: 0.6211522193621019\n",
              "MAE: 0.442982908493615\n",
              "RMSLE: 0.1476633029567935\n",
              "Mean Residual Deviance: 0.38583007961846466\n",
              "R^2: 0.2028826520096435\n",
              "Null degrees of freedom: 24708\n",
              "Residual degrees of freedom: 24699\n",
              "Null deviance: 11960.27978567938\n",
              "Residual deviance: 9533.475437292644\n",
              "AIC: 46611.285307387356</pre></div>\n",
              "<div style='margin: 1em 0 1em 0;'>\n",
              "<style>\n",
              "\n",
              "#h2o-table-3.h2o-container {\n",
              "  overflow-x: auto;\n",
              "}\n",
              "#h2o-table-3 .h2o-table {\n",
              "  /* width: 100%; */\n",
              "  margin-top: 1em;\n",
              "  margin-bottom: 1em;\n",
              "}\n",
              "#h2o-table-3 .h2o-table caption {\n",
              "  white-space: nowrap;\n",
              "  caption-side: top;\n",
              "  text-align: left;\n",
              "  /* margin-left: 1em; */\n",
              "  margin: 0;\n",
              "  font-size: larger;\n",
              "}\n",
              "#h2o-table-3 .h2o-table thead {\n",
              "  white-space: nowrap; \n",
              "  position: sticky;\n",
              "  top: 0;\n",
              "  box-shadow: 0 -1px inset;\n",
              "}\n",
              "#h2o-table-3 .h2o-table tbody {\n",
              "  overflow: auto;\n",
              "}\n",
              "#h2o-table-3 .h2o-table th,\n",
              "#h2o-table-3 .h2o-table td {\n",
              "  text-align: right;\n",
              "  /* border: 1px solid; */\n",
              "}\n",
              "#h2o-table-3 .h2o-table tr:nth-child(even) {\n",
              "  /* background: #F5F5F5 */\n",
              "}\n",
              "\n",
              "</style>      \n",
              "<div id=\"h2o-table-3\" class=\"h2o-container\">\n",
              "  <table class=\"h2o-table\">\n",
              "    <caption>Cross-Validation Metrics Summary: </caption>\n",
              "    <thead><tr><th></th>\n",
              "<th>mean</th>\n",
              "<th>sd</th>\n",
              "<th>cv_1_valid</th>\n",
              "<th>cv_2_valid</th>\n",
              "<th>cv_3_valid</th>\n",
              "<th>cv_4_valid</th>\n",
              "<th>cv_5_valid</th></tr></thead>\n",
              "    <tbody><tr><td>mae</td>\n",
              "<td>0.4431401</td>\n",
              "<td>0.0082756</td>\n",
              "<td>0.4389475</td>\n",
              "<td>0.4435302</td>\n",
              "<td>0.4445171</td>\n",
              "<td>0.4331418</td>\n",
              "<td>0.4555638</td></tr>\n",
              "<tr><td>mean_residual_deviance</td>\n",
              "<td>0.3856618</td>\n",
              "<td>0.0175133</td>\n",
              "<td>0.3746076</td>\n",
              "<td>0.3827993</td>\n",
              "<td>0.3940816</td>\n",
              "<td>0.3659329</td>\n",
              "<td>0.4108878</td></tr>\n",
              "<tr><td>mse</td>\n",
              "<td>0.3856618</td>\n",
              "<td>0.0175133</td>\n",
              "<td>0.3746076</td>\n",
              "<td>0.3827993</td>\n",
              "<td>0.3940816</td>\n",
              "<td>0.3659329</td>\n",
              "<td>0.4108878</td></tr>\n",
              "<tr><td>null_deviance</td>\n",
              "<td>2392.056</td>\n",
              "<td>85.384315</td>\n",
              "<td>2346.6228</td>\n",
              "<td>2344.521</td>\n",
              "<td>2490.399</td>\n",
              "<td>2302.3271</td>\n",
              "<td>2476.41</td></tr>\n",
              "<tr><td>r2</td>\n",
              "<td>0.2033460</td>\n",
              "<td>0.0148080</td>\n",
              "<td>0.2101120</td>\n",
              "<td>0.2038188</td>\n",
              "<td>0.2130668</td>\n",
              "<td>0.2120826</td>\n",
              "<td>0.1776501</td></tr>\n",
              "<tr><td>residual_deviance</td>\n",
              "<td>1905.9558</td>\n",
              "<td>90.46711</td>\n",
              "<td>1853.5586</td>\n",
              "<td>1866.5295</td>\n",
              "<td>1959.7676</td>\n",
              "<td>1813.5635</td>\n",
              "<td>2036.3599</td></tr>\n",
              "<tr><td>rmse</td>\n",
              "<td>0.6208896</td>\n",
              "<td>0.0140499</td>\n",
              "<td>0.6120520</td>\n",
              "<td>0.6187078</td>\n",
              "<td>0.6277592</td>\n",
              "<td>0.6049239</td>\n",
              "<td>0.6410053</td></tr>\n",
              "<tr><td>rmsle</td>\n",
              "<td>0.1475908</td>\n",
              "<td>0.0033014</td>\n",
              "<td>0.1450751</td>\n",
              "<td>0.1469361</td>\n",
              "<td>0.1488327</td>\n",
              "<td>0.1444662</td>\n",
              "<td>0.1526439</td></tr></tbody>\n",
              "  </table>\n",
              "</div>\n",
              "</div><pre style=\"font-size: smaller; margin: 1em 0 0 0;\">\n",
              "\n",
              "[tips]\n",
              "Use `model.explain()` to inspect the model.\n",
              "--\n",
              "Use `h2o.display.toggle_user_tips()` to switch on/off this section.</pre>"
            ]
          },
          "metadata": {},
          "execution_count": 6
        }
      ]
    },
    {
      "cell_type": "code",
      "source": [
        "# View AutoML leaderboard\n",
        "leaderboard = aml.leaderboard\n",
        "print(leaderboard)"
      ],
      "metadata": {
        "colab": {
          "base_uri": "https://localhost:8080/"
        },
        "id": "oaJfsOMj60M0",
        "outputId": "2c028d91-94a4-4aa5-e2f7-ddea384a0c8d"
      },
      "execution_count": 7,
      "outputs": [
        {
          "output_type": "stream",
          "name": "stdout",
          "text": [
            "model_id                                                     rmse       mse       mae     rmsle    mean_residual_deviance\n",
            "StackedEnsemble_AllModels_1_AutoML_1_20231125_220749     0.621152  0.38583   0.442983  0.147663                  0.38583\n",
            "StackedEnsemble_BestOfFamily_1_AutoML_1_20231125_220749  0.621268  0.385974  0.442914  0.147703                  0.385974\n",
            "GBM_4_AutoML_1_20231125_220749                           0.622037  0.38693   0.443715  0.147868                  0.38693\n",
            "GBM_3_AutoML_1_20231125_220749                           0.622823  0.387909  0.444732  0.148021                  0.387909\n",
            "XGBoost_1_AutoML_1_20231125_220749                       0.623675  0.38897   0.44452   0.148334                  0.38897\n",
            "GBM_2_AutoML_1_20231125_220749                           0.62397   0.389339  0.445799  0.148229                  0.389339\n",
            "XGBoost_2_AutoML_1_20231125_220749                       0.625096  0.390745  0.444733  0.148659                  0.390745\n",
            "DRF_1_AutoML_1_20231125_220749                           0.626868  0.392963  0.444573  0.149034                  0.392963\n",
            "XGBoost_3_AutoML_1_20231125_220749                       0.627632  0.393922  0.448943  0.14911                   0.393922\n",
            "GBM_1_AutoML_1_20231125_220749                           0.627823  0.394162  0.44955   0.149019                  0.394162\n",
            "[12 rows x 6 columns]\n",
            "\n"
          ]
        }
      ]
    },
    {
      "cell_type": "code",
      "source": [
        "test_h2o = h2o.H2OFrame(X_test)\n",
        "best_model = aml.leader"
      ],
      "metadata": {
        "colab": {
          "base_uri": "https://localhost:8080/"
        },
        "id": "fQb4lnqi60D9",
        "outputId": "e0464df8-234b-4986-baf9-37bb43bdfaf8"
      },
      "execution_count": 8,
      "outputs": [
        {
          "output_type": "stream",
          "name": "stdout",
          "text": [
            "Parse progress: |████████████████████████████████████████████████████████████████| (done) 100%\n"
          ]
        }
      ]
    },
    {
      "cell_type": "code",
      "source": [
        "pred = best_model.predict(test_h2o)"
      ],
      "metadata": {
        "colab": {
          "base_uri": "https://localhost:8080/"
        },
        "id": "B12Cpksy8FmK",
        "outputId": "ad3a565d-a5f8-4492-d832-9e51d9d3b75f"
      },
      "execution_count": 9,
      "outputs": [
        {
          "output_type": "stream",
          "name": "stdout",
          "text": [
            "stackedensemble prediction progress: |███████████████████████████████████████████| (done) 100%\n"
          ]
        }
      ]
    },
    {
      "cell_type": "code",
      "source": [
        "import numpy as np\n",
        "\n",
        "# y_test = y_test.to_numpy()\n",
        "pred = pred.as_data_frame()\n",
        "pred = pred.to_numpy()"
      ],
      "metadata": {
        "id": "m30o6boV8NwD"
      },
      "execution_count": 10,
      "outputs": []
    },
    {
      "cell_type": "code",
      "source": [
        "mse = mean_squared_error(y_test, pred)\n",
        "print(f\"Mean Squared Error: {mse}\")"
      ],
      "metadata": {
        "colab": {
          "base_uri": "https://localhost:8080/"
        },
        "id": "5qa973QcAGtB",
        "outputId": "9570dfca-1126-4c45-acf7-fe71a7f40e07"
      },
      "execution_count": 11,
      "outputs": [
        {
          "output_type": "stream",
          "name": "stdout",
          "text": [
            "Mean Squared Error: 0.37347685335216607\n"
          ]
        }
      ]
    },
    {
      "cell_type": "code",
      "source": [
        "Xtrain = TOX.drop(columns=['TAID', 'SMILES', 'mouse intraperitoneal LD50', 'group'])\n",
        "ytrain = TOX['mouse intraperitoneal LD50']\n",
        "\n",
        "# Split the data into training (80%), and test (20%) sets\n",
        "X_train, X_test, y_train, y_test = train_test_split(Xtrain, ytrain, test_size=0.2, random_state=42)"
      ],
      "metadata": {
        "id": "rq9Qs0Kg-4qR"
      },
      "execution_count": 11,
      "outputs": []
    },
    {
      "cell_type": "code",
      "source": [
        "# One-hot coding\n",
        "non_numeric_columns = X_train.select_dtypes(include=['object']).columns\n",
        "X_train = pd.get_dummies(X_train, columns=non_numeric_columns)\n",
        "X_test = pd.get_dummies(X_test, columns=non_numeric_columns)\n",
        "X_train, X_test = X_train.align(X_test, join='inner', axis=1)  # Align the DataFrames by the columns"
      ],
      "metadata": {
        "id": "leCmFvd8_qtt"
      },
      "execution_count": null,
      "outputs": []
    },
    {
      "cell_type": "code",
      "source": [
        "# Gradient Boosting Machine (GBM)\n",
        "from sklearn.ensemble import GradientBoostingRegressor  # For regression\n",
        "from sklearn.model_selection import train_test_split\n",
        "from sklearn.metrics import mean_squared_error\n",
        "\n",
        "gbm_regressor = GradientBoostingRegressor(n_estimators=100, learning_rate=0.1, max_depth=3, random_state=42)\n",
        "gbm_regressor.fit(X_train, y_train)"
      ],
      "metadata": {
        "colab": {
          "base_uri": "https://localhost:8080/",
          "height": 75
        },
        "id": "Af0XdOMe-NJ9",
        "outputId": "cb9f730f-2b0a-4ec7-9c86-28fb56ff5636"
      },
      "execution_count": null,
      "outputs": [
        {
          "output_type": "execute_result",
          "data": {
            "text/plain": [
              "GradientBoostingRegressor(random_state=42)"
            ],
            "text/html": [
              "<style>#sk-container-id-1 {color: black;background-color: white;}#sk-container-id-1 pre{padding: 0;}#sk-container-id-1 div.sk-toggleable {background-color: white;}#sk-container-id-1 label.sk-toggleable__label {cursor: pointer;display: block;width: 100%;margin-bottom: 0;padding: 0.3em;box-sizing: border-box;text-align: center;}#sk-container-id-1 label.sk-toggleable__label-arrow:before {content: \"▸\";float: left;margin-right: 0.25em;color: #696969;}#sk-container-id-1 label.sk-toggleable__label-arrow:hover:before {color: black;}#sk-container-id-1 div.sk-estimator:hover label.sk-toggleable__label-arrow:before {color: black;}#sk-container-id-1 div.sk-toggleable__content {max-height: 0;max-width: 0;overflow: hidden;text-align: left;background-color: #f0f8ff;}#sk-container-id-1 div.sk-toggleable__content pre {margin: 0.2em;color: black;border-radius: 0.25em;background-color: #f0f8ff;}#sk-container-id-1 input.sk-toggleable__control:checked~div.sk-toggleable__content {max-height: 200px;max-width: 100%;overflow: auto;}#sk-container-id-1 input.sk-toggleable__control:checked~label.sk-toggleable__label-arrow:before {content: \"▾\";}#sk-container-id-1 div.sk-estimator input.sk-toggleable__control:checked~label.sk-toggleable__label {background-color: #d4ebff;}#sk-container-id-1 div.sk-label input.sk-toggleable__control:checked~label.sk-toggleable__label {background-color: #d4ebff;}#sk-container-id-1 input.sk-hidden--visually {border: 0;clip: rect(1px 1px 1px 1px);clip: rect(1px, 1px, 1px, 1px);height: 1px;margin: -1px;overflow: hidden;padding: 0;position: absolute;width: 1px;}#sk-container-id-1 div.sk-estimator {font-family: monospace;background-color: #f0f8ff;border: 1px dotted black;border-radius: 0.25em;box-sizing: border-box;margin-bottom: 0.5em;}#sk-container-id-1 div.sk-estimator:hover {background-color: #d4ebff;}#sk-container-id-1 div.sk-parallel-item::after {content: \"\";width: 100%;border-bottom: 1px solid gray;flex-grow: 1;}#sk-container-id-1 div.sk-label:hover label.sk-toggleable__label {background-color: #d4ebff;}#sk-container-id-1 div.sk-serial::before {content: \"\";position: absolute;border-left: 1px solid gray;box-sizing: border-box;top: 0;bottom: 0;left: 50%;z-index: 0;}#sk-container-id-1 div.sk-serial {display: flex;flex-direction: column;align-items: center;background-color: white;padding-right: 0.2em;padding-left: 0.2em;position: relative;}#sk-container-id-1 div.sk-item {position: relative;z-index: 1;}#sk-container-id-1 div.sk-parallel {display: flex;align-items: stretch;justify-content: center;background-color: white;position: relative;}#sk-container-id-1 div.sk-item::before, #sk-container-id-1 div.sk-parallel-item::before {content: \"\";position: absolute;border-left: 1px solid gray;box-sizing: border-box;top: 0;bottom: 0;left: 50%;z-index: -1;}#sk-container-id-1 div.sk-parallel-item {display: flex;flex-direction: column;z-index: 1;position: relative;background-color: white;}#sk-container-id-1 div.sk-parallel-item:first-child::after {align-self: flex-end;width: 50%;}#sk-container-id-1 div.sk-parallel-item:last-child::after {align-self: flex-start;width: 50%;}#sk-container-id-1 div.sk-parallel-item:only-child::after {width: 0;}#sk-container-id-1 div.sk-dashed-wrapped {border: 1px dashed gray;margin: 0 0.4em 0.5em 0.4em;box-sizing: border-box;padding-bottom: 0.4em;background-color: white;}#sk-container-id-1 div.sk-label label {font-family: monospace;font-weight: bold;display: inline-block;line-height: 1.2em;}#sk-container-id-1 div.sk-label-container {text-align: center;}#sk-container-id-1 div.sk-container {/* jupyter's `normalize.less` sets `[hidden] { display: none; }` but bootstrap.min.css set `[hidden] { display: none !important; }` so we also need the `!important` here to be able to override the default hidden behavior on the sphinx rendered scikit-learn.org. See: https://github.com/scikit-learn/scikit-learn/issues/21755 */display: inline-block !important;position: relative;}#sk-container-id-1 div.sk-text-repr-fallback {display: none;}</style><div id=\"sk-container-id-1\" class=\"sk-top-container\"><div class=\"sk-text-repr-fallback\"><pre>GradientBoostingRegressor(random_state=42)</pre><b>In a Jupyter environment, please rerun this cell to show the HTML representation or trust the notebook. <br />On GitHub, the HTML representation is unable to render, please try loading this page with nbviewer.org.</b></div><div class=\"sk-container\" hidden><div class=\"sk-item\"><div class=\"sk-estimator sk-toggleable\"><input class=\"sk-toggleable__control sk-hidden--visually\" id=\"sk-estimator-id-1\" type=\"checkbox\" checked><label for=\"sk-estimator-id-1\" class=\"sk-toggleable__label sk-toggleable__label-arrow\">GradientBoostingRegressor</label><div class=\"sk-toggleable__content\"><pre>GradientBoostingRegressor(random_state=42)</pre></div></div></div></div></div>"
            ]
          },
          "metadata": {},
          "execution_count": 25
        }
      ]
    },
    {
      "cell_type": "code",
      "source": [
        "y_pred = gbm_regressor.predict(X_test)"
      ],
      "metadata": {
        "id": "21LrhoNF_25b"
      },
      "execution_count": null,
      "outputs": []
    },
    {
      "cell_type": "code",
      "source": [
        "mse = mean_squared_error(y_test, y_pred)\n",
        "print(f\"Mean Squared Error: {mse}\")"
      ],
      "metadata": {
        "colab": {
          "base_uri": "https://localhost:8080/"
        },
        "id": "1R83O7bf_99O",
        "outputId": "74a32334-1503-4ee9-dd58-1c8336123136"
      },
      "execution_count": null,
      "outputs": [
        {
          "output_type": "stream",
          "name": "stdout",
          "text": [
            "Mean Squared Error: 0.4073268125724454\n"
          ]
        }
      ]
    },
    {
      "cell_type": "code",
      "source": [
        "# tuning\n",
        "\n",
        "from sklearn.model_selection import GridSearchCV\n",
        "\n",
        "param_grid = {\n",
        "    'n_estimators': [100, 200, 300],\n",
        "    'learning_rate': [0.05, 0.1, 0.2],\n",
        "    'max_depth': [3, 4, 5]\n",
        "}\n",
        "\n",
        "gbm = GradientBoostingRegressor(random_state=42)\n",
        "grid_search = GridSearchCV(estimator=gbm, param_grid=param_grid, cv=3, n_jobs=-1)\n",
        "grid_search.fit(X_train, y_train)\n",
        "\n",
        "best_model = grid_search.best_estimator_"
      ],
      "metadata": {
        "id": "ddmQv240AABx"
      },
      "execution_count": null,
      "outputs": []
    },
    {
      "cell_type": "code",
      "source": [
        "y_pred = best_model.predict(X_test)"
      ],
      "metadata": {
        "id": "guGkE6HKA0EU"
      },
      "execution_count": null,
      "outputs": []
    },
    {
      "cell_type": "code",
      "source": [
        "mse = mean_squared_error(y_test, y_pred)\n",
        "print(f\"Mean Squared Error: {mse}\")"
      ],
      "metadata": {
        "colab": {
          "base_uri": "https://localhost:8080/"
        },
        "id": "j4V6VH2S__47",
        "outputId": "c6dce011-cae1-4c93-ee58-fce0d05cabcc"
      },
      "execution_count": null,
      "outputs": [
        {
          "output_type": "stream",
          "name": "stdout",
          "text": [
            "Mean Squared Error: 0.37976225299108496\n"
          ]
        }
      ]
    },
    {
      "cell_type": "code",
      "source": [
        "# XGBoost\n",
        "import xgboost as xgb\n",
        "\n",
        "xgb_regressor = xgb.XGBRegressor(n_estimators=100, learning_rate=0.1, max_depth=3, random_state=42)\n",
        "\n",
        "xgb_regressor.fit(X_train, y_train)"
      ],
      "metadata": {
        "colab": {
          "base_uri": "https://localhost:8080/",
          "height": 248
        },
        "id": "9cTR1pjz-oP9",
        "outputId": "7b12d3d0-9637-4f47-923d-2ec80923e131"
      },
      "execution_count": null,
      "outputs": [
        {
          "output_type": "execute_result",
          "data": {
            "text/plain": [
              "XGBRegressor(base_score=None, booster=None, callbacks=None,\n",
              "             colsample_bylevel=None, colsample_bynode=None,\n",
              "             colsample_bytree=None, device=None, early_stopping_rounds=None,\n",
              "             enable_categorical=False, eval_metric=None, feature_types=None,\n",
              "             gamma=None, grow_policy=None, importance_type=None,\n",
              "             interaction_constraints=None, learning_rate=0.1, max_bin=None,\n",
              "             max_cat_threshold=None, max_cat_to_onehot=None,\n",
              "             max_delta_step=None, max_depth=3, max_leaves=None,\n",
              "             min_child_weight=None, missing=nan, monotone_constraints=None,\n",
              "             multi_strategy=None, n_estimators=100, n_jobs=None,\n",
              "             num_parallel_tree=None, random_state=42, ...)"
            ],
            "text/html": [
              "<style>#sk-container-id-2 {color: black;background-color: white;}#sk-container-id-2 pre{padding: 0;}#sk-container-id-2 div.sk-toggleable {background-color: white;}#sk-container-id-2 label.sk-toggleable__label {cursor: pointer;display: block;width: 100%;margin-bottom: 0;padding: 0.3em;box-sizing: border-box;text-align: center;}#sk-container-id-2 label.sk-toggleable__label-arrow:before {content: \"▸\";float: left;margin-right: 0.25em;color: #696969;}#sk-container-id-2 label.sk-toggleable__label-arrow:hover:before {color: black;}#sk-container-id-2 div.sk-estimator:hover label.sk-toggleable__label-arrow:before {color: black;}#sk-container-id-2 div.sk-toggleable__content {max-height: 0;max-width: 0;overflow: hidden;text-align: left;background-color: #f0f8ff;}#sk-container-id-2 div.sk-toggleable__content pre {margin: 0.2em;color: black;border-radius: 0.25em;background-color: #f0f8ff;}#sk-container-id-2 input.sk-toggleable__control:checked~div.sk-toggleable__content {max-height: 200px;max-width: 100%;overflow: auto;}#sk-container-id-2 input.sk-toggleable__control:checked~label.sk-toggleable__label-arrow:before {content: \"▾\";}#sk-container-id-2 div.sk-estimator input.sk-toggleable__control:checked~label.sk-toggleable__label {background-color: #d4ebff;}#sk-container-id-2 div.sk-label input.sk-toggleable__control:checked~label.sk-toggleable__label {background-color: #d4ebff;}#sk-container-id-2 input.sk-hidden--visually {border: 0;clip: rect(1px 1px 1px 1px);clip: rect(1px, 1px, 1px, 1px);height: 1px;margin: -1px;overflow: hidden;padding: 0;position: absolute;width: 1px;}#sk-container-id-2 div.sk-estimator {font-family: monospace;background-color: #f0f8ff;border: 1px dotted black;border-radius: 0.25em;box-sizing: border-box;margin-bottom: 0.5em;}#sk-container-id-2 div.sk-estimator:hover {background-color: #d4ebff;}#sk-container-id-2 div.sk-parallel-item::after {content: \"\";width: 100%;border-bottom: 1px solid gray;flex-grow: 1;}#sk-container-id-2 div.sk-label:hover label.sk-toggleable__label {background-color: #d4ebff;}#sk-container-id-2 div.sk-serial::before {content: \"\";position: absolute;border-left: 1px solid gray;box-sizing: border-box;top: 0;bottom: 0;left: 50%;z-index: 0;}#sk-container-id-2 div.sk-serial {display: flex;flex-direction: column;align-items: center;background-color: white;padding-right: 0.2em;padding-left: 0.2em;position: relative;}#sk-container-id-2 div.sk-item {position: relative;z-index: 1;}#sk-container-id-2 div.sk-parallel {display: flex;align-items: stretch;justify-content: center;background-color: white;position: relative;}#sk-container-id-2 div.sk-item::before, #sk-container-id-2 div.sk-parallel-item::before {content: \"\";position: absolute;border-left: 1px solid gray;box-sizing: border-box;top: 0;bottom: 0;left: 50%;z-index: -1;}#sk-container-id-2 div.sk-parallel-item {display: flex;flex-direction: column;z-index: 1;position: relative;background-color: white;}#sk-container-id-2 div.sk-parallel-item:first-child::after {align-self: flex-end;width: 50%;}#sk-container-id-2 div.sk-parallel-item:last-child::after {align-self: flex-start;width: 50%;}#sk-container-id-2 div.sk-parallel-item:only-child::after {width: 0;}#sk-container-id-2 div.sk-dashed-wrapped {border: 1px dashed gray;margin: 0 0.4em 0.5em 0.4em;box-sizing: border-box;padding-bottom: 0.4em;background-color: white;}#sk-container-id-2 div.sk-label label {font-family: monospace;font-weight: bold;display: inline-block;line-height: 1.2em;}#sk-container-id-2 div.sk-label-container {text-align: center;}#sk-container-id-2 div.sk-container {/* jupyter's `normalize.less` sets `[hidden] { display: none; }` but bootstrap.min.css set `[hidden] { display: none !important; }` so we also need the `!important` here to be able to override the default hidden behavior on the sphinx rendered scikit-learn.org. See: https://github.com/scikit-learn/scikit-learn/issues/21755 */display: inline-block !important;position: relative;}#sk-container-id-2 div.sk-text-repr-fallback {display: none;}</style><div id=\"sk-container-id-2\" class=\"sk-top-container\"><div class=\"sk-text-repr-fallback\"><pre>XGBRegressor(base_score=None, booster=None, callbacks=None,\n",
              "             colsample_bylevel=None, colsample_bynode=None,\n",
              "             colsample_bytree=None, device=None, early_stopping_rounds=None,\n",
              "             enable_categorical=False, eval_metric=None, feature_types=None,\n",
              "             gamma=None, grow_policy=None, importance_type=None,\n",
              "             interaction_constraints=None, learning_rate=0.1, max_bin=None,\n",
              "             max_cat_threshold=None, max_cat_to_onehot=None,\n",
              "             max_delta_step=None, max_depth=3, max_leaves=None,\n",
              "             min_child_weight=None, missing=nan, monotone_constraints=None,\n",
              "             multi_strategy=None, n_estimators=100, n_jobs=None,\n",
              "             num_parallel_tree=None, random_state=42, ...)</pre><b>In a Jupyter environment, please rerun this cell to show the HTML representation or trust the notebook. <br />On GitHub, the HTML representation is unable to render, please try loading this page with nbviewer.org.</b></div><div class=\"sk-container\" hidden><div class=\"sk-item\"><div class=\"sk-estimator sk-toggleable\"><input class=\"sk-toggleable__control sk-hidden--visually\" id=\"sk-estimator-id-2\" type=\"checkbox\" checked><label for=\"sk-estimator-id-2\" class=\"sk-toggleable__label sk-toggleable__label-arrow\">XGBRegressor</label><div class=\"sk-toggleable__content\"><pre>XGBRegressor(base_score=None, booster=None, callbacks=None,\n",
              "             colsample_bylevel=None, colsample_bynode=None,\n",
              "             colsample_bytree=None, device=None, early_stopping_rounds=None,\n",
              "             enable_categorical=False, eval_metric=None, feature_types=None,\n",
              "             gamma=None, grow_policy=None, importance_type=None,\n",
              "             interaction_constraints=None, learning_rate=0.1, max_bin=None,\n",
              "             max_cat_threshold=None, max_cat_to_onehot=None,\n",
              "             max_delta_step=None, max_depth=3, max_leaves=None,\n",
              "             min_child_weight=None, missing=nan, monotone_constraints=None,\n",
              "             multi_strategy=None, n_estimators=100, n_jobs=None,\n",
              "             num_parallel_tree=None, random_state=42, ...)</pre></div></div></div></div></div>"
            ]
          },
          "metadata": {},
          "execution_count": 31
        }
      ]
    },
    {
      "cell_type": "code",
      "source": [
        "y_pred = xgb_regressor.predict(X_test)\n",
        "\n",
        "mse = mean_squared_error(y_test, y_pred)\n",
        "print(f\"Mean Squared Error: {mse}\")"
      ],
      "metadata": {
        "colab": {
          "base_uri": "https://localhost:8080/"
        },
        "id": "R_Qww2KxCX6y",
        "outputId": "8d2b523e-af6b-4cf9-a4d6-922c19be68cd"
      },
      "execution_count": null,
      "outputs": [
        {
          "output_type": "stream",
          "name": "stdout",
          "text": [
            "Mean Squared Error: 0.40768256461925156\n"
          ]
        }
      ]
    },
    {
      "cell_type": "code",
      "source": [
        "# tuning\n",
        "xgb_model = xgb.XGBRegressor(random_state=42)\n",
        "grid_search = GridSearchCV(estimator=xgb_model, param_grid=param_grid, cv=3, n_jobs=-1)\n",
        "grid_search.fit(X_train, y_train)\n",
        "\n",
        "best_model = grid_search.best_estimator_"
      ],
      "metadata": {
        "id": "8SfXBl_BCdEc"
      },
      "execution_count": null,
      "outputs": []
    },
    {
      "cell_type": "code",
      "source": [
        "y_pred = best_model.predict(X_test)\n",
        "mse = mean_squared_error(y_test, y_pred)\n",
        "print(f\"Mean Squared Error: {mse}\")"
      ],
      "metadata": {
        "colab": {
          "base_uri": "https://localhost:8080/"
        },
        "id": "kqpzY4u9ClqY",
        "outputId": "b270c206-3511-4c3e-d84f-ca2634ddff51"
      },
      "execution_count": null,
      "outputs": [
        {
          "output_type": "stream",
          "name": "stdout",
          "text": [
            "Mean Squared Error: 0.38041239427871626\n"
          ]
        }
      ]
    },
    {
      "cell_type": "code",
      "source": [
        "# Distributed Random Forest\n",
        "from sklearn.ensemble import RandomForestRegressor\n",
        "\n",
        "rf_regressor = RandomForestRegressor(n_estimators=100, random_state=42)\n",
        "rf_regressor.fit(X_train, y_train)"
      ],
      "metadata": {
        "colab": {
          "base_uri": "https://localhost:8080/",
          "height": 75
        },
        "id": "OChftRDm-pCe",
        "outputId": "ff8b6a34-33dc-4e58-f9b6-96149de70c08"
      },
      "execution_count": 21,
      "outputs": [
        {
          "output_type": "execute_result",
          "data": {
            "text/plain": [
              "RandomForestRegressor(random_state=42)"
            ],
            "text/html": [
              "<style>#sk-container-id-1 {color: black;background-color: white;}#sk-container-id-1 pre{padding: 0;}#sk-container-id-1 div.sk-toggleable {background-color: white;}#sk-container-id-1 label.sk-toggleable__label {cursor: pointer;display: block;width: 100%;margin-bottom: 0;padding: 0.3em;box-sizing: border-box;text-align: center;}#sk-container-id-1 label.sk-toggleable__label-arrow:before {content: \"▸\";float: left;margin-right: 0.25em;color: #696969;}#sk-container-id-1 label.sk-toggleable__label-arrow:hover:before {color: black;}#sk-container-id-1 div.sk-estimator:hover label.sk-toggleable__label-arrow:before {color: black;}#sk-container-id-1 div.sk-toggleable__content {max-height: 0;max-width: 0;overflow: hidden;text-align: left;background-color: #f0f8ff;}#sk-container-id-1 div.sk-toggleable__content pre {margin: 0.2em;color: black;border-radius: 0.25em;background-color: #f0f8ff;}#sk-container-id-1 input.sk-toggleable__control:checked~div.sk-toggleable__content {max-height: 200px;max-width: 100%;overflow: auto;}#sk-container-id-1 input.sk-toggleable__control:checked~label.sk-toggleable__label-arrow:before {content: \"▾\";}#sk-container-id-1 div.sk-estimator input.sk-toggleable__control:checked~label.sk-toggleable__label {background-color: #d4ebff;}#sk-container-id-1 div.sk-label input.sk-toggleable__control:checked~label.sk-toggleable__label {background-color: #d4ebff;}#sk-container-id-1 input.sk-hidden--visually {border: 0;clip: rect(1px 1px 1px 1px);clip: rect(1px, 1px, 1px, 1px);height: 1px;margin: -1px;overflow: hidden;padding: 0;position: absolute;width: 1px;}#sk-container-id-1 div.sk-estimator {font-family: monospace;background-color: #f0f8ff;border: 1px dotted black;border-radius: 0.25em;box-sizing: border-box;margin-bottom: 0.5em;}#sk-container-id-1 div.sk-estimator:hover {background-color: #d4ebff;}#sk-container-id-1 div.sk-parallel-item::after {content: \"\";width: 100%;border-bottom: 1px solid gray;flex-grow: 1;}#sk-container-id-1 div.sk-label:hover label.sk-toggleable__label {background-color: #d4ebff;}#sk-container-id-1 div.sk-serial::before {content: \"\";position: absolute;border-left: 1px solid gray;box-sizing: border-box;top: 0;bottom: 0;left: 50%;z-index: 0;}#sk-container-id-1 div.sk-serial {display: flex;flex-direction: column;align-items: center;background-color: white;padding-right: 0.2em;padding-left: 0.2em;position: relative;}#sk-container-id-1 div.sk-item {position: relative;z-index: 1;}#sk-container-id-1 div.sk-parallel {display: flex;align-items: stretch;justify-content: center;background-color: white;position: relative;}#sk-container-id-1 div.sk-item::before, #sk-container-id-1 div.sk-parallel-item::before {content: \"\";position: absolute;border-left: 1px solid gray;box-sizing: border-box;top: 0;bottom: 0;left: 50%;z-index: -1;}#sk-container-id-1 div.sk-parallel-item {display: flex;flex-direction: column;z-index: 1;position: relative;background-color: white;}#sk-container-id-1 div.sk-parallel-item:first-child::after {align-self: flex-end;width: 50%;}#sk-container-id-1 div.sk-parallel-item:last-child::after {align-self: flex-start;width: 50%;}#sk-container-id-1 div.sk-parallel-item:only-child::after {width: 0;}#sk-container-id-1 div.sk-dashed-wrapped {border: 1px dashed gray;margin: 0 0.4em 0.5em 0.4em;box-sizing: border-box;padding-bottom: 0.4em;background-color: white;}#sk-container-id-1 div.sk-label label {font-family: monospace;font-weight: bold;display: inline-block;line-height: 1.2em;}#sk-container-id-1 div.sk-label-container {text-align: center;}#sk-container-id-1 div.sk-container {/* jupyter's `normalize.less` sets `[hidden] { display: none; }` but bootstrap.min.css set `[hidden] { display: none !important; }` so we also need the `!important` here to be able to override the default hidden behavior on the sphinx rendered scikit-learn.org. See: https://github.com/scikit-learn/scikit-learn/issues/21755 */display: inline-block !important;position: relative;}#sk-container-id-1 div.sk-text-repr-fallback {display: none;}</style><div id=\"sk-container-id-1\" class=\"sk-top-container\"><div class=\"sk-text-repr-fallback\"><pre>RandomForestRegressor(random_state=42)</pre><b>In a Jupyter environment, please rerun this cell to show the HTML representation or trust the notebook. <br />On GitHub, the HTML representation is unable to render, please try loading this page with nbviewer.org.</b></div><div class=\"sk-container\" hidden><div class=\"sk-item\"><div class=\"sk-estimator sk-toggleable\"><input class=\"sk-toggleable__control sk-hidden--visually\" id=\"sk-estimator-id-1\" type=\"checkbox\" checked><label for=\"sk-estimator-id-1\" class=\"sk-toggleable__label sk-toggleable__label-arrow\">RandomForestRegressor</label><div class=\"sk-toggleable__content\"><pre>RandomForestRegressor(random_state=42)</pre></div></div></div></div></div>"
            ]
          },
          "metadata": {},
          "execution_count": 21
        }
      ]
    },
    {
      "cell_type": "code",
      "source": [
        "y_pred = rf_regressor.predict(X_test)\n",
        "mse = mean_squared_error(y_test, y_pred)\n",
        "print(f\"Mean Squared Error: {mse}\")"
      ],
      "metadata": {
        "colab": {
          "base_uri": "https://localhost:8080/"
        },
        "id": "tSodPXXUDCtt",
        "outputId": "6a2c85c2-ed85-4a6f-f6d4-5ab65da14ff2"
      },
      "execution_count": null,
      "outputs": [
        {
          "output_type": "stream",
          "name": "stdout",
          "text": [
            "Mean Squared Error: 0.3731316375600981\n"
          ]
        }
      ]
    },
    {
      "cell_type": "code",
      "source": [
        "print(y_pred)"
      ],
      "metadata": {
        "colab": {
          "base_uri": "https://localhost:8080/"
        },
        "id": "sW2vH9LDyQbh",
        "outputId": "34b1d423-e098-45f0-c31d-d64baa099647"
      },
      "execution_count": null,
      "outputs": [
        {
          "output_type": "stream",
          "name": "stdout",
          "text": [
            "[3.50458322 2.93689589 3.09073575 ... 2.96503422 2.77806068 3.40790896]\n"
          ]
        }
      ]
    },
    {
      "cell_type": "code",
      "source": [
        "# tree.feature_importances_\n",
        "rf = RandomForestRegressor(n_estimators=1000, min_samples_leaf=10,\n",
        "                            max_features=20, random_state=42)\n",
        "rf.fit(X_train, y_train)\n",
        "\n",
        "feature_importances = rf.feature_importances_\n",
        "feature_names = X_train.columns\n",
        "\n",
        "importance_df = pd.DataFrame({\n",
        "    'Feature': feature_names,\n",
        "    'Importance': feature_importances\n",
        "})\n",
        "importance_df = importance_df.sort_values(by='Importance', ascending=False)\n",
        "print(importance_df)"
      ],
      "metadata": {
        "colab": {
          "base_uri": "https://localhost:8080/"
        },
        "id": "9WzEU-x9zF-n",
        "outputId": "50616944-9d5b-4529-de50-83e1688602be"
      },
      "execution_count": null,
      "outputs": [
        {
          "output_type": "stream",
          "name": "stdout",
          "text": [
            "                                            Feature  Importance\n",
            "8                  Tertiary Amine or Amide Nitrogen    0.132752\n",
            "7              Secondary Amine or Aromatic Nitrogen    0.112487\n",
            "10                                         Aromatic    0.110365\n",
            "6                     Primary Amine or Ammonium Ion    0.099445\n",
            "11                                        Aliphatic    0.096980\n",
            "4                                 Hydroxyl or Ether    0.094074\n",
            "5   Ketones, aldehydes, carboxylic acids, or esters    0.093801\n",
            "1                                                 S    0.073839\n",
            "0                                          Halogens    0.071170\n",
            "2                                                 P    0.052840\n",
            "9                                Partially Aromatic    0.048952\n",
            "3                                       Other Metal    0.013295\n"
          ]
        }
      ]
    },
    {
      "cell_type": "markdown",
      "source": [
        "### Section 2: Feature Relationship"
      ],
      "metadata": {
        "id": "FiJy6SHmHkCc"
      }
    },
    {
      "cell_type": "markdown",
      "source": [
        "correlation:\n",
        "\n",
        "1.   S + Hydroxyl or Ether\n",
        "2.   S + Ketones,aldehydes, carboxylic acids, or esters\n",
        "3.   N + Ketones,aldehydes, carboxylic acids, or esters\n",
        "4.   N + Hydroxyl or Ether\n",
        "5.   Aromatic + hydroxyl or ether\n",
        "6.   Aromatic + metal\n",
        "7.   Hydroxyl or Ether + Ketones, aldehydes, carboxylic acids, or esters"
      ],
      "metadata": {
        "id": "KKF_MLoOH2zw"
      }
    },
    {
      "cell_type": "markdown",
      "source": [
        "Contingency Tables"
      ],
      "metadata": {
        "id": "H000KMg60P8Q"
      }
    },
    {
      "cell_type": "code",
      "source": [
        "from scipy.stats import chi2_contingency"
      ],
      "metadata": {
        "id": "pkw5i-nPpaF_"
      },
      "execution_count": 6,
      "outputs": []
    },
    {
      "cell_type": "code",
      "source": [
        "chi2_contingency(pd.crosstab(TOX['S'], TOX['Hydroxyl or Ether']))"
      ],
      "metadata": {
        "colab": {
          "base_uri": "https://localhost:8080/"
        },
        "id": "r8ZzmdxBHhJy",
        "outputId": "88d76c5a-a7cb-4664-e691-f8f4adec0fb2"
      },
      "execution_count": 7,
      "outputs": [
        {
          "output_type": "execute_result",
          "data": {
            "text/plain": [
              "Chi2ContingencyResult(statistic=485.45632116882445, pvalue=3.841486007865234e-106, dof=2, expected_freq=array([[14373.68033089,  4170.60154679,  8557.71812233],\n",
              "       [ 4347.31966911,  1261.39845321,  2588.28187767]]))"
            ]
          },
          "metadata": {},
          "execution_count": 7
        }
      ]
    },
    {
      "cell_type": "code",
      "source": [
        "chi2_contingency(pd.crosstab(TOX['S'], TOX['Ketones, aldehydes, carboxylic acids, or esters']))"
      ],
      "metadata": {
        "colab": {
          "base_uri": "https://localhost:8080/"
        },
        "id": "gffSLyMUjTTz",
        "outputId": "30739b49-fe39-42bd-ab4c-ee9b9e0d462d"
      },
      "execution_count": 8,
      "outputs": [
        {
          "output_type": "execute_result",
          "data": {
            "text/plain": [
              "Chi2ContingencyResult(statistic=584.532626931176, pvalue=1.1758524155924075e-127, dof=2, expected_freq=array([[ 5163.34598714,  4170.60154679, 17768.05246608],\n",
              "       [ 1561.65401286,  1261.39845321,  5373.94753392]]))"
            ]
          },
          "metadata": {},
          "execution_count": 8
        }
      ]
    },
    {
      "cell_type": "code",
      "source": [
        "chi2_contingency(pd.crosstab(TOX['Primary Amine or Ammonium Ion'], TOX['Ketones, aldehydes, carboxylic acids, or esters']))"
      ],
      "metadata": {
        "colab": {
          "base_uri": "https://localhost:8080/"
        },
        "id": "UQnXwayWl5EL",
        "outputId": "fb6bc488-7cfe-4f89-fd2b-d8e508a45125"
      },
      "execution_count": 9,
      "outputs": [
        {
          "output_type": "execute_result",
          "data": {
            "text/plain": [
              "Chi2ContingencyResult(statistic=777.3921407959822, pvalue=6.0557441061831914e-167, dof=4, expected_freq=array([[ 4855.66375818,  3922.0766594 , 16709.25958242],\n",
              "       [  817.501204  ,   660.3221621 ,  2813.1766339 ],\n",
              "       [ 1051.83503782,   849.6011785 ,  3619.56378368]]))"
            ]
          },
          "metadata": {},
          "execution_count": 9
        }
      ]
    },
    {
      "cell_type": "code",
      "source": [
        "correlation_matrix = Xtrain.corr()\n",
        "spearman_corr_matrix = Xtrain.corr(method='spearman')\n",
        "\n",
        "high_corr = correlation_matrix.abs() > 0.2\n",
        "high_corr_matrix = correlation_matrix[high_corr]\n",
        "print(high_corr_matrix)"
      ],
      "metadata": {
        "colab": {
          "base_uri": "https://localhost:8080/"
        },
        "id": "pAdpaTu00UB-",
        "outputId": "dc7ea106-d225-4243-cebc-95a14c470067"
      },
      "execution_count": 12,
      "outputs": [
        {
          "output_type": "stream",
          "name": "stdout",
          "text": [
            "                                                 Halogens    S    P  \\\n",
            "Halogens                                              1.0  NaN  NaN   \n",
            "S                                                     NaN  1.0  NaN   \n",
            "P                                                     NaN  NaN  1.0   \n",
            "Other Metal                                           NaN  NaN  NaN   \n",
            "Hydroxyl or Ether                                     NaN  NaN  NaN   \n",
            "Ketones, aldehydes, carboxylic acids, or esters       NaN  NaN  NaN   \n",
            "Primary Amine or Ammonium Ion                         NaN  NaN  NaN   \n",
            "Secondary Amine or Aromatic Nitrogen                  NaN  NaN  NaN   \n",
            "Tertiary Amine or Amide Nitrogen                      NaN  NaN  NaN   \n",
            "Partially Aromatic                                    NaN  NaN  NaN   \n",
            "Aromatic                                              NaN  NaN  NaN   \n",
            "Aliphatic                                             NaN  NaN  NaN   \n",
            "\n",
            "                                                 Other Metal  \\\n",
            "Halogens                                                 NaN   \n",
            "S                                                        NaN   \n",
            "P                                                        NaN   \n",
            "Other Metal                                              1.0   \n",
            "Hydroxyl or Ether                                        NaN   \n",
            "Ketones, aldehydes, carboxylic acids, or esters          NaN   \n",
            "Primary Amine or Ammonium Ion                            NaN   \n",
            "Secondary Amine or Aromatic Nitrogen                     NaN   \n",
            "Tertiary Amine or Amide Nitrogen                         NaN   \n",
            "Partially Aromatic                                       NaN   \n",
            "Aromatic                                                 NaN   \n",
            "Aliphatic                                                NaN   \n",
            "\n",
            "                                                 Hydroxyl or Ether  \\\n",
            "Halogens                                                       NaN   \n",
            "S                                                              NaN   \n",
            "P                                                              NaN   \n",
            "Other Metal                                                    NaN   \n",
            "Hydroxyl or Ether                                              1.0   \n",
            "Ketones, aldehydes, carboxylic acids, or esters                NaN   \n",
            "Primary Amine or Ammonium Ion                                  NaN   \n",
            "Secondary Amine or Aromatic Nitrogen                           NaN   \n",
            "Tertiary Amine or Amide Nitrogen                               NaN   \n",
            "Partially Aromatic                                             NaN   \n",
            "Aromatic                                                       NaN   \n",
            "Aliphatic                                                      NaN   \n",
            "\n",
            "                                                 Ketones, aldehydes, carboxylic acids, or esters  \\\n",
            "Halogens                                                                                     NaN   \n",
            "S                                                                                            NaN   \n",
            "P                                                                                            NaN   \n",
            "Other Metal                                                                                  NaN   \n",
            "Hydroxyl or Ether                                                                            NaN   \n",
            "Ketones, aldehydes, carboxylic acids, or esters                                              1.0   \n",
            "Primary Amine or Ammonium Ion                                                                NaN   \n",
            "Secondary Amine or Aromatic Nitrogen                                                         NaN   \n",
            "Tertiary Amine or Amide Nitrogen                                                             NaN   \n",
            "Partially Aromatic                                                                           NaN   \n",
            "Aromatic                                                                                     NaN   \n",
            "Aliphatic                                                                                    NaN   \n",
            "\n",
            "                                                 Primary Amine or Ammonium Ion  \\\n",
            "Halogens                                                                   NaN   \n",
            "S                                                                          NaN   \n",
            "P                                                                          NaN   \n",
            "Other Metal                                                                NaN   \n",
            "Hydroxyl or Ether                                                          NaN   \n",
            "Ketones, aldehydes, carboxylic acids, or esters                            NaN   \n",
            "Primary Amine or Ammonium Ion                                          1.00000   \n",
            "Secondary Amine or Aromatic Nitrogen                                       NaN   \n",
            "Tertiary Amine or Amide Nitrogen                                      -0.28473   \n",
            "Partially Aromatic                                                         NaN   \n",
            "Aromatic                                                                   NaN   \n",
            "Aliphatic                                                                  NaN   \n",
            "\n",
            "                                                 Secondary Amine or Aromatic Nitrogen  \\\n",
            "Halogens                                                                          NaN   \n",
            "S                                                                                 NaN   \n",
            "P                                                                                 NaN   \n",
            "Other Metal                                                                       NaN   \n",
            "Hydroxyl or Ether                                                                 NaN   \n",
            "Ketones, aldehydes, carboxylic acids, or esters                                   NaN   \n",
            "Primary Amine or Ammonium Ion                                                     NaN   \n",
            "Secondary Amine or Aromatic Nitrogen                                          1.00000   \n",
            "Tertiary Amine or Amide Nitrogen                                             -0.20565   \n",
            "Partially Aromatic                                                                NaN   \n",
            "Aromatic                                                                          NaN   \n",
            "Aliphatic                                                                         NaN   \n",
            "\n",
            "                                                 Tertiary Amine or Amide Nitrogen  \\\n",
            "Halogens                                                                      NaN   \n",
            "S                                                                             NaN   \n",
            "P                                                                             NaN   \n",
            "Other Metal                                                                   NaN   \n",
            "Hydroxyl or Ether                                                             NaN   \n",
            "Ketones, aldehydes, carboxylic acids, or esters                               NaN   \n",
            "Primary Amine or Ammonium Ion                                            -0.28473   \n",
            "Secondary Amine or Aromatic Nitrogen                                     -0.20565   \n",
            "Tertiary Amine or Amide Nitrogen                                          1.00000   \n",
            "Partially Aromatic                                                            NaN   \n",
            "Aromatic                                                                      NaN   \n",
            "Aliphatic                                                                 0.25538   \n",
            "\n",
            "                                                 Partially Aromatic  Aromatic  \\\n",
            "Halogens                                                        NaN       NaN   \n",
            "S                                                               NaN       NaN   \n",
            "P                                                               NaN       NaN   \n",
            "Other Metal                                                     NaN       NaN   \n",
            "Hydroxyl or Ether                                               NaN       NaN   \n",
            "Ketones, aldehydes, carboxylic acids, or esters                 NaN       NaN   \n",
            "Primary Amine or Ammonium Ion                                   NaN       NaN   \n",
            "Secondary Amine or Aromatic Nitrogen                            NaN       NaN   \n",
            "Tertiary Amine or Amide Nitrogen                                NaN       NaN   \n",
            "Partially Aromatic                                         1.000000  0.216631   \n",
            "Aromatic                                                   0.216631  1.000000   \n",
            "Aliphatic                                                       NaN       NaN   \n",
            "\n",
            "                                                 Aliphatic  \n",
            "Halogens                                               NaN  \n",
            "S                                                      NaN  \n",
            "P                                                      NaN  \n",
            "Other Metal                                            NaN  \n",
            "Hydroxyl or Ether                                      NaN  \n",
            "Ketones, aldehydes, carboxylic acids, or esters        NaN  \n",
            "Primary Amine or Ammonium Ion                          NaN  \n",
            "Secondary Amine or Aromatic Nitrogen                   NaN  \n",
            "Tertiary Amine or Amide Nitrogen                   0.25538  \n",
            "Partially Aromatic                                     NaN  \n",
            "Aromatic                                               NaN  \n",
            "Aliphatic                                          1.00000  \n"
          ]
        }
      ]
    },
    {
      "cell_type": "code",
      "source": [
        "from sklearn.linear_model import LinearRegression\n",
        "y = TOX['mouse intraperitoneal LD50']"
      ],
      "metadata": {
        "id": "-44ITigXwLEP"
      },
      "execution_count": 13,
      "outputs": []
    },
    {
      "cell_type": "code",
      "source": [
        "X = TOX[['S', 'Hydroxyl or Ether']]\n",
        "\n",
        "model = LinearRegression()\n",
        "model.fit(X, y)\n",
        "coefficients = model.coef_\n",
        "intercept = model.intercept_\n",
        "print(f'Intercept: {intercept}')\n",
        "print(f'Coefficients: {coefficients}')"
      ],
      "metadata": {
        "colab": {
          "base_uri": "https://localhost:8080/"
        },
        "id": "q-oBYeYku0tq",
        "outputId": "59bdcf24-12fd-4618-98ae-8f49c77b884e"
      },
      "execution_count": 14,
      "outputs": [
        {
          "output_type": "stream",
          "name": "stdout",
          "text": [
            "Intercept: 3.051724613608171\n",
            "Coefficients: [-0.07674911  0.04122754]\n"
          ]
        }
      ]
    },
    {
      "cell_type": "code",
      "source": [
        "X = TOX[['S', 'Ketones, aldehydes, carboxylic acids, or esters']]\n",
        "\n",
        "model = LinearRegression()\n",
        "model.fit(X, y)\n",
        "coefficients = model.coef_\n",
        "intercept = model.intercept_\n",
        "print(f'Intercept: {intercept}')\n",
        "print(f'Coefficients: {coefficients}')"
      ],
      "metadata": {
        "colab": {
          "base_uri": "https://localhost:8080/"
        },
        "id": "VSgYpyaXw40D",
        "outputId": "bdfb5291-a4cc-4b5e-c2c4-f4db1ab733c7"
      },
      "execution_count": 15,
      "outputs": [
        {
          "output_type": "stream",
          "name": "stdout",
          "text": [
            "Intercept: 3.0825300162447657\n",
            "Coefficients: [-0.07227286 -0.08749409]\n"
          ]
        }
      ]
    },
    {
      "cell_type": "code",
      "source": [
        "X = TOX[['Primary Amine or Ammonium Ion', 'Ketones, aldehydes, carboxylic acids, or esters']]\n",
        "\n",
        "model = LinearRegression()\n",
        "model.fit(X, y)\n",
        "coefficients = model.coef_\n",
        "intercept = model.intercept_\n",
        "print(f'Intercept: {intercept}')\n",
        "print(f'Coefficients: {coefficients}')"
      ],
      "metadata": {
        "colab": {
          "base_uri": "https://localhost:8080/"
        },
        "id": "OjauAeoGxgdW",
        "outputId": "ece0d3ba-bfdb-4f0d-cb87-0287a1ed41cd"
      },
      "execution_count": 16,
      "outputs": [
        {
          "output_type": "stream",
          "name": "stdout",
          "text": [
            "Intercept: 3.0593957383530377\n",
            "Coefficients: [-0.01217715 -0.08864732]\n"
          ]
        }
      ]
    },
    {
      "cell_type": "code",
      "source": [
        "X = TOX[['Secondary Amine or Aromatic Nitrogen', 'Ketones, aldehydes, carboxylic acids, or esters']]\n",
        "\n",
        "model = LinearRegression()\n",
        "model.fit(X, y)\n",
        "coefficients = model.coef_\n",
        "intercept = model.intercept_\n",
        "print(f'Intercept: {intercept}')\n",
        "print(f'Coefficients: {coefficients}')"
      ],
      "metadata": {
        "colab": {
          "base_uri": "https://localhost:8080/"
        },
        "id": "UdmvMvdVz5FR",
        "outputId": "b8750dcc-be92-49a7-91ed-69f06380ed01"
      },
      "execution_count": 17,
      "outputs": [
        {
          "output_type": "stream",
          "name": "stdout",
          "text": [
            "Intercept: 3.0880304381343655\n",
            "Coefficients: [-0.10337728 -0.07622773]\n"
          ]
        }
      ]
    },
    {
      "cell_type": "code",
      "source": [
        "temp_TOX = TOX"
      ],
      "metadata": {
        "id": "NezUwUc90mQJ"
      },
      "execution_count": 18,
      "outputs": []
    },
    {
      "cell_type": "code",
      "source": [
        "temp_TOX['S_Hydroxyl_interaction'] = temp_TOX['S'] * temp_TOX['Hydroxyl or Ether']\n",
        "X = temp_TOX[['S', 'Hydroxyl or Ether', 'S_Hydroxyl_interaction']]\n",
        "\n",
        "rf = RandomForestRegressor()\n",
        "rf.fit(X, y)\n",
        "\n",
        "importances = rf.feature_importances_\n",
        "\n",
        "for i, col in enumerate(X.columns):\n",
        "    print(f\"{col}: {importances[i]}\")"
      ],
      "metadata": {
        "colab": {
          "base_uri": "https://localhost:8080/"
        },
        "id": "HAHnkuEIWSGa",
        "outputId": "12d0c0b7-4eaa-484e-ba70-279f857a52cc"
      },
      "execution_count": 22,
      "outputs": [
        {
          "output_type": "stream",
          "name": "stdout",
          "text": [
            "S: 0.2795086700643132\n",
            "Hydroxyl or Ether: 0.6408665751261673\n",
            "S_Hydroxyl_interaction: 0.07962475480951955\n"
          ]
        }
      ]
    },
    {
      "cell_type": "code",
      "source": [],
      "metadata": {
        "id": "PKmX2rCcW0o0"
      },
      "execution_count": null,
      "outputs": []
    }
  ]
}